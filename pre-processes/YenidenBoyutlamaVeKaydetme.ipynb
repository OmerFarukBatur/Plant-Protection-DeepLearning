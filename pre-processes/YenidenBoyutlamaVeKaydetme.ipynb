{
 "cells": [
  {
   "cell_type": "code",
   "execution_count": 2,
   "id": "understood-traveler",
   "metadata": {},
   "outputs": [],
   "source": [
    "import numpy as np\n",
    "import pandas as pd \n",
    "import cv2\n",
    "import matplotlib.pyplot as plt\n",
    "import os\n",
    "from sklearn.model_selection import train_test_split\n",
    "import tensorflow as tf\n",
    "from keras.models import load_model\n",
    "from keras.preprocessing import image as img"
   ]
  },
  {
   "cell_type": "code",
   "execution_count": 8,
   "id": "criminal-admission",
   "metadata": {},
   "outputs": [],
   "source": [
    "data=os.listdir(\"D:\\\\Bitirme Projesi\\\\X_train_CogaltilmisVeri\")\n",
    "y=pd.DataFrame([i.split('_')[1],i.split('_')[2]] for i in data)"
   ]
  },
  {
   "cell_type": "code",
   "execution_count": 9,
   "id": "constant-heart",
   "metadata": {},
   "outputs": [
    {
     "data": {
      "text/html": [
       "<div>\n",
       "<style scoped>\n",
       "    .dataframe tbody tr th:only-of-type {\n",
       "        vertical-align: middle;\n",
       "    }\n",
       "\n",
       "    .dataframe tbody tr th {\n",
       "        vertical-align: top;\n",
       "    }\n",
       "\n",
       "    .dataframe thead th {\n",
       "        text-align: right;\n",
       "    }\n",
       "</style>\n",
       "<table border=\"1\" class=\"dataframe\">\n",
       "  <thead>\n",
       "    <tr style=\"text-align: right;\">\n",
       "      <th></th>\n",
       "      <th>0</th>\n",
       "      <th>1</th>\n",
       "    </tr>\n",
       "  </thead>\n",
       "  <tbody>\n",
       "    <tr>\n",
       "      <th>0</th>\n",
       "      <td>00000000000000000001</td>\n",
       "      <td>bademIcKurdu</td>\n",
       "    </tr>\n",
       "    <tr>\n",
       "      <th>1</th>\n",
       "      <td>00000000000000000001</td>\n",
       "      <td>bademIcKurdu</td>\n",
       "    </tr>\n",
       "    <tr>\n",
       "      <th>2</th>\n",
       "      <td>00000000000000000001</td>\n",
       "      <td>bademIcKurdu</td>\n",
       "    </tr>\n",
       "    <tr>\n",
       "      <th>3</th>\n",
       "      <td>00000000000000000001</td>\n",
       "      <td>bademIcKurdu</td>\n",
       "    </tr>\n",
       "    <tr>\n",
       "      <th>4</th>\n",
       "      <td>00000000000000000001</td>\n",
       "      <td>bademIcKurdu</td>\n",
       "    </tr>\n",
       "  </tbody>\n",
       "</table>\n",
       "</div>"
      ],
      "text/plain": [
       "                      0             1\n",
       "0  00000000000000000001  bademIcKurdu\n",
       "1  00000000000000000001  bademIcKurdu\n",
       "2  00000000000000000001  bademIcKurdu\n",
       "3  00000000000000000001  bademIcKurdu\n",
       "4  00000000000000000001  bademIcKurdu"
      ]
     },
     "execution_count": 9,
     "metadata": {},
     "output_type": "execute_result"
    }
   ],
   "source": [
    "y.head()"
   ]
  },
  {
   "cell_type": "code",
   "execution_count": 10,
   "id": "double-junction",
   "metadata": {},
   "outputs": [],
   "source": [
    "y.to_csv('Bitirme_Y_train')"
   ]
  },
  {
   "cell_type": "code",
   "execution_count": 11,
   "id": "starting-appendix",
   "metadata": {},
   "outputs": [
    {
     "data": {
      "text/plain": [
       "(13454, 150, 150, 3)"
      ]
     },
     "execution_count": 11,
     "metadata": {},
     "output_type": "execute_result"
    }
   ],
   "source": [
    "X_data =[]\n",
    "for file in data:\n",
    "    image = cv2.imread(\"D:\\\\Bitirme Projesi\\\\X_train_CogaltilmisVeri\\\\\"+file,cv2.IMREAD_COLOR)\n",
    "    image = cv2.cvtColor(image, cv2.COLOR_BGR2RGB)\n",
    "    image =cv2.resize(image, (150,150) )\n",
    "    X_data.append(image)\n",
    "X_data=np.array(X_data)\n",
    "X_data.shape"
   ]
  },
  {
   "cell_type": "code",
   "execution_count": 13,
   "id": "military-jordan",
   "metadata": {},
   "outputs": [],
   "source": [
    "X = np.squeeze(X_data)"
   ]
  },
  {
   "cell_type": "code",
   "execution_count": 14,
   "id": "wired-northeast",
   "metadata": {},
   "outputs": [],
   "source": [
    "np.save('Bitirme_X_train_150x150',X)"
   ]
  },
  {
   "cell_type": "code",
   "execution_count": 15,
   "id": "proprietary-consciousness",
   "metadata": {},
   "outputs": [],
   "source": [
    "data=os.listdir(\"D:\\\\Bitirme Projesi\\\\X_test_CogaltilmisVeri\")\n",
    "y=pd.DataFrame([i.split('_')[1],i.split('_')[2]] for i in data)"
   ]
  },
  {
   "cell_type": "code",
   "execution_count": 16,
   "id": "clinical-intellectual",
   "metadata": {},
   "outputs": [
    {
     "data": {
      "text/html": [
       "<div>\n",
       "<style scoped>\n",
       "    .dataframe tbody tr th:only-of-type {\n",
       "        vertical-align: middle;\n",
       "    }\n",
       "\n",
       "    .dataframe tbody tr th {\n",
       "        vertical-align: top;\n",
       "    }\n",
       "\n",
       "    .dataframe thead th {\n",
       "        text-align: right;\n",
       "    }\n",
       "</style>\n",
       "<table border=\"1\" class=\"dataframe\">\n",
       "  <thead>\n",
       "    <tr style=\"text-align: right;\">\n",
       "      <th></th>\n",
       "      <th>0</th>\n",
       "      <th>1</th>\n",
       "    </tr>\n",
       "  </thead>\n",
       "  <tbody>\n",
       "    <tr>\n",
       "      <th>0</th>\n",
       "      <td>10000000000000000000</td>\n",
       "      <td>ALTERNARIA</td>\n",
       "    </tr>\n",
       "    <tr>\n",
       "      <th>1</th>\n",
       "      <td>10000000000000000000</td>\n",
       "      <td>ALTERNARIA</td>\n",
       "    </tr>\n",
       "    <tr>\n",
       "      <th>2</th>\n",
       "      <td>10000000000000000000</td>\n",
       "      <td>ALTERNARIA</td>\n",
       "    </tr>\n",
       "    <tr>\n",
       "      <th>3</th>\n",
       "      <td>10000000000000000000</td>\n",
       "      <td>ALTERNARIA</td>\n",
       "    </tr>\n",
       "    <tr>\n",
       "      <th>4</th>\n",
       "      <td>10000000000000000000</td>\n",
       "      <td>ALTERNARIA</td>\n",
       "    </tr>\n",
       "  </tbody>\n",
       "</table>\n",
       "</div>"
      ],
      "text/plain": [
       "                      0           1\n",
       "0  10000000000000000000  ALTERNARIA\n",
       "1  10000000000000000000  ALTERNARIA\n",
       "2  10000000000000000000  ALTERNARIA\n",
       "3  10000000000000000000  ALTERNARIA\n",
       "4  10000000000000000000  ALTERNARIA"
      ]
     },
     "execution_count": 16,
     "metadata": {},
     "output_type": "execute_result"
    }
   ],
   "source": [
    "y.head()"
   ]
  },
  {
   "cell_type": "code",
   "execution_count": 17,
   "id": "female-level",
   "metadata": {},
   "outputs": [],
   "source": [
    "y.to_csv('Bitirme_Y_test')"
   ]
  },
  {
   "cell_type": "code",
   "execution_count": 18,
   "id": "capable-reality",
   "metadata": {},
   "outputs": [
    {
     "data": {
      "text/plain": [
       "(1498, 150, 150, 3)"
      ]
     },
     "execution_count": 18,
     "metadata": {},
     "output_type": "execute_result"
    }
   ],
   "source": [
    "X_data =[]\n",
    "for file in data:\n",
    "    image = cv2.imread(\"D:\\\\Bitirme Projesi\\\\X_test_CogaltilmisVeri\\\\\"+file,cv2.IMREAD_COLOR)\n",
    "    image = cv2.cvtColor(image, cv2.COLOR_BGR2RGB)\n",
    "    image =cv2.resize(image, (150,150) )\n",
    "    X_data.append(image)\n",
    "X_data=np.array(X_data)\n",
    "X_data.shape"
   ]
  },
  {
   "cell_type": "code",
   "execution_count": 19,
   "id": "bulgarian-sapphire",
   "metadata": {},
   "outputs": [],
   "source": [
    "X = np.squeeze(X_data)"
   ]
  },
  {
   "cell_type": "code",
   "execution_count": 20,
   "id": "fuzzy-hundred",
   "metadata": {},
   "outputs": [],
   "source": [
    "np.save('Bitirme_X_test_150x150',X)"
   ]
  },
  {
   "cell_type": "code",
   "execution_count": null,
   "id": "functional-grounds",
   "metadata": {},
   "outputs": [],
   "source": []
  }
 ],
 "metadata": {
  "kernelspec": {
   "display_name": "Python 3",
   "language": "python",
   "name": "python3"
  },
  "language_info": {
   "codemirror_mode": {
    "name": "ipython",
    "version": 3
   },
   "file_extension": ".py",
   "mimetype": "text/x-python",
   "name": "python",
   "nbconvert_exporter": "python",
   "pygments_lexer": "ipython3",
   "version": "3.8.5"
  }
 },
 "nbformat": 4,
 "nbformat_minor": 5
}
